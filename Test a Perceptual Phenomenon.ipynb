{
 "cells": [
  {
   "cell_type": "markdown",
   "metadata": {},
   "source": [
    "### Analyzing the Stroop Effect\n",
    "Perform the analysis in the space below. Remember to follow [the instructions](https://docs.google.com/document/d/1-OkpZLjG_kX9J6LIQ5IltsqMzVWjh36QpnP2RYpVdPU/pub?embedded=True) and review the [project rubric](https://review.udacity.com/#!/rubrics/71/view) before submitting. Once you've completed the analysis and write-up, download this file as a PDF or HTML file, upload that PDF/HTML into the workspace here (click on the orange Jupyter icon in the upper left then Upload), then use the Submit Project button at the bottom of this page. This will create a zip file containing both this .ipynb doc and the PDF/HTML doc that will be submitted for your project.\n",
    "\n",
    "\n",
    "(1) What is the independent variable? What is the dependent variable?"
   ]
  },
  {
   "cell_type": "code",
   "execution_count": 1,
   "metadata": {},
   "outputs": [
    {
     "data": {
      "text/html": [
       "<div>\n",
       "<style scoped>\n",
       "    .dataframe tbody tr th:only-of-type {\n",
       "        vertical-align: middle;\n",
       "    }\n",
       "\n",
       "    .dataframe tbody tr th {\n",
       "        vertical-align: top;\n",
       "    }\n",
       "\n",
       "    .dataframe thead th {\n",
       "        text-align: right;\n",
       "    }\n",
       "</style>\n",
       "<table border=\"1\" class=\"dataframe\">\n",
       "  <thead>\n",
       "    <tr style=\"text-align: right;\">\n",
       "      <th></th>\n",
       "      <th>Congruent</th>\n",
       "      <th>Incongruent</th>\n",
       "    </tr>\n",
       "  </thead>\n",
       "  <tbody>\n",
       "    <tr>\n",
       "      <th>0</th>\n",
       "      <td>12.079</td>\n",
       "      <td>19.278</td>\n",
       "    </tr>\n",
       "    <tr>\n",
       "      <th>1</th>\n",
       "      <td>16.791</td>\n",
       "      <td>18.741</td>\n",
       "    </tr>\n",
       "    <tr>\n",
       "      <th>2</th>\n",
       "      <td>9.564</td>\n",
       "      <td>21.214</td>\n",
       "    </tr>\n",
       "    <tr>\n",
       "      <th>3</th>\n",
       "      <td>8.630</td>\n",
       "      <td>15.687</td>\n",
       "    </tr>\n",
       "    <tr>\n",
       "      <th>4</th>\n",
       "      <td>14.669</td>\n",
       "      <td>22.803</td>\n",
       "    </tr>\n",
       "  </tbody>\n",
       "</table>\n",
       "</div>"
      ],
      "text/plain": [
       "   Congruent  Incongruent\n",
       "0     12.079       19.278\n",
       "1     16.791       18.741\n",
       "2      9.564       21.214\n",
       "3      8.630       15.687\n",
       "4     14.669       22.803"
      ]
     },
     "execution_count": 1,
     "metadata": {},
     "output_type": "execute_result"
    }
   ],
   "source": [
    "# import libraries and read in data\n",
    "\n",
    "import pandas as pd\n",
    "import numpy as np\n",
    "import random\n",
    "import matplotlib.pyplot as plt\n",
    "import time\n",
    "%matplotlib inline\n",
    "\n",
    "df = pd.read_csv('stroopdata.csv')\n",
    "df.head()"
   ]
  },
  {
   "cell_type": "markdown",
   "metadata": {},
   "source": [
    "__Independent variable__: the type/condition of the task - if words match the colour (congruent) or do not match (incongruent)\n",
    "\n",
    "__Dependent variable__: the time to name the colours in the list"
   ]
  },
  {
   "cell_type": "markdown",
   "metadata": {},
   "source": [
    "(2) What is an appropriate set of hypotheses for this task? Specify your null and alternative hypotheses, and clearly define any notation used. Justify your choices."
   ]
  },
  {
   "cell_type": "markdown",
   "metadata": {},
   "source": [
    "$H_0: \\mu_{congruent} - \\mu_{incongruent} = 0$\n",
    "\n",
    "$H_1: \\mu_{congruent} - \\mu_{incongruent} \\neq 0$\n",
    "\n",
    "__Null Hypothesis ($H_0$)__: there is no difference between the mean times for the congruent task and the incongruent task\n",
    "\n",
    "__Alternative Hypothesis ($H_1$)__: there is a difference between the mean times for the congruent task and the incongruent task\n",
    "\n",
    "__Explanation__: Since we are interested in whether there is a difference or not, we set the null hypothesis as there being no difference. Then we will use hypothesis testing to see that assuming the null is true, if there is sufficient evidence to reject the null hypothesis, in favour of the alternative hypothesis (that there is a difference between the groups)"
   ]
  },
  {
   "cell_type": "markdown",
   "metadata": {},
   "source": [
    "(3) Report some descriptive statistics regarding this dataset. Include at least one measure of central tendency and at least one measure of variability. The name of the data file is 'stroopdata.csv'."
   ]
  },
  {
   "cell_type": "code",
   "execution_count": 6,
   "metadata": {},
   "outputs": [
    {
     "data": {
      "text/html": [
       "<div>\n",
       "<style scoped>\n",
       "    .dataframe tbody tr th:only-of-type {\n",
       "        vertical-align: middle;\n",
       "    }\n",
       "\n",
       "    .dataframe tbody tr th {\n",
       "        vertical-align: top;\n",
       "    }\n",
       "\n",
       "    .dataframe thead th {\n",
       "        text-align: right;\n",
       "    }\n",
       "</style>\n",
       "<table border=\"1\" class=\"dataframe\">\n",
       "  <thead>\n",
       "    <tr style=\"text-align: right;\">\n",
       "      <th></th>\n",
       "      <th>Congruent</th>\n",
       "      <th>Incongruent</th>\n",
       "    </tr>\n",
       "  </thead>\n",
       "  <tbody>\n",
       "    <tr>\n",
       "      <th>count</th>\n",
       "      <td>24.000000</td>\n",
       "      <td>24.000000</td>\n",
       "    </tr>\n",
       "    <tr>\n",
       "      <th>mean</th>\n",
       "      <td>14.051125</td>\n",
       "      <td>22.015917</td>\n",
       "    </tr>\n",
       "    <tr>\n",
       "      <th>std</th>\n",
       "      <td>3.559358</td>\n",
       "      <td>4.797057</td>\n",
       "    </tr>\n",
       "    <tr>\n",
       "      <th>min</th>\n",
       "      <td>8.630000</td>\n",
       "      <td>15.687000</td>\n",
       "    </tr>\n",
       "    <tr>\n",
       "      <th>25%</th>\n",
       "      <td>11.895250</td>\n",
       "      <td>18.716750</td>\n",
       "    </tr>\n",
       "    <tr>\n",
       "      <th>50%</th>\n",
       "      <td>14.356500</td>\n",
       "      <td>21.017500</td>\n",
       "    </tr>\n",
       "    <tr>\n",
       "      <th>75%</th>\n",
       "      <td>16.200750</td>\n",
       "      <td>24.051500</td>\n",
       "    </tr>\n",
       "    <tr>\n",
       "      <th>max</th>\n",
       "      <td>22.328000</td>\n",
       "      <td>35.255000</td>\n",
       "    </tr>\n",
       "  </tbody>\n",
       "</table>\n",
       "</div>"
      ],
      "text/plain": [
       "       Congruent  Incongruent\n",
       "count  24.000000    24.000000\n",
       "mean   14.051125    22.015917\n",
       "std     3.559358     4.797057\n",
       "min     8.630000    15.687000\n",
       "25%    11.895250    18.716750\n",
       "50%    14.356500    21.017500\n",
       "75%    16.200750    24.051500\n",
       "max    22.328000    35.255000"
      ]
     },
     "execution_count": 6,
     "metadata": {},
     "output_type": "execute_result"
    }
   ],
   "source": [
    "# Perform the analysis here\n",
    "# descriptive statistics\n",
    "df.describe()"
   ]
  },
  {
   "cell_type": "code",
   "execution_count": 7,
   "metadata": {},
   "outputs": [
    {
     "name": "stdout",
     "output_type": "stream",
     "text": [
      "4.3054999999999986\n",
      "5.33475\n"
     ]
    }
   ],
   "source": [
    "# interquartile range\n",
    "print(16.200750-11.895250)\n",
    "print(24.051500-18.716750)"
   ]
  },
  {
   "cell_type": "code",
   "execution_count": 8,
   "metadata": {},
   "outputs": [
    {
     "data": {
      "text/plain": [
       "Congruent      12.141153\n",
       "Incongruent    22.052934\n",
       "dtype: float64"
      ]
     },
     "execution_count": 8,
     "metadata": {},
     "output_type": "execute_result"
    }
   ],
   "source": [
    "# variance\n",
    "np.var(df)"
   ]
  },
  {
   "cell_type": "code",
   "execution_count": 5,
   "metadata": {},
   "outputs": [
    {
     "data": {
      "text/plain": [
       "Congruent      3.484416\n",
       "Incongruent    4.696055\n",
       "dtype: float64"
      ]
     },
     "execution_count": 5,
     "metadata": {},
     "output_type": "execute_result"
    }
   ],
   "source": [
    "# standard deviation\n",
    "np.std(df)"
   ]
  },
  {
   "cell_type": "markdown",
   "metadata": {},
   "source": [
    "Descriptive Statistics:\n",
    "\n",
    "|      group| n|  mean|   min|   max|interquartile range|variance|standard deviation|\n",
    "|-----------|--|------|------|------|-------------------|--------|------------------|\n",
    "|  congruent|24|14.051| 8.630|22.328|              4.305|  12.141|             3.484|\n",
    "|incongruent|24|22.016|15.687|35.255|              5.335|  22.053|             4.696|"
   ]
  },
  {
   "cell_type": "markdown",
   "metadata": {},
   "source": [
    "(4) Provide one or two visualizations that show the distribution of the sample data. Write one or two sentences noting what you observe about the plot or plots."
   ]
  },
  {
   "cell_type": "code",
   "execution_count": 12,
   "metadata": {},
   "outputs": [
    {
     "data": {
      "image/png": "[encoded data removed]",
      "text/plain": [
       "<Figure size 432x288 with 1 Axes>"
      ]
     },
     "metadata": {},
     "output_type": "display_data"
    }
   ],
   "source": [
    "# Build the visualizations here\n",
    "plt.hist(df['Congruent'], alpha=0.5, color='blue', label='congruent');\n",
    "plt.hist(df['Incongruent'], alpha=0.5, color='orange', label='incongruent');\n",
    "plt.legend();\n",
    "plt.xlabel('Duration');\n",
    "plt.ylabel('Counts');\n",
    "plt.title('Distribution of Times for Congruent v. Incongruent Tasks');"
   ]
  },
  {
   "cell_type": "markdown",
   "metadata": {},
   "source": [
    "Plotted a histogram of the time values for each group, congruent (blue) and incongruent (orange).\n",
    "\n",
    "Observations:\n",
    "- The congruent times tend more to the left (lower in general)\n",
    "- The incongruent times tend more to the right (higher in general)\n",
    "- The distribution is uneven (not exactly normal shaped) since there n=24 which is small for each group. Both appear to be right-skewed."
   ]
  },
  {
   "cell_type": "markdown",
   "metadata": {},
   "source": [
    "(5)  Now, perform the statistical test and report your results. What is your confidence level or Type I error associated with your test? What is your conclusion regarding the hypotheses you set up? Did the results match up with your expectations? **Hint:**  Think about what is being measured on each individual, and what statistic best captures how an individual reacts in each environment."
   ]
  },
  {
   "cell_type": "code",
   "execution_count": 17,
   "metadata": {},
   "outputs": [
    {
     "data": {
      "text/html": [
       "<div>\n",
       "<style scoped>\n",
       "    .dataframe tbody tr th:only-of-type {\n",
       "        vertical-align: middle;\n",
       "    }\n",
       "\n",
       "    .dataframe tbody tr th {\n",
       "        vertical-align: top;\n",
       "    }\n",
       "\n",
       "    .dataframe thead th {\n",
       "        text-align: right;\n",
       "    }\n",
       "</style>\n",
       "<table border=\"1\" class=\"dataframe\">\n",
       "  <thead>\n",
       "    <tr style=\"text-align: right;\">\n",
       "      <th></th>\n",
       "      <th>Congruent</th>\n",
       "      <th>Incongruent</th>\n",
       "      <th>difference</th>\n",
       "    </tr>\n",
       "  </thead>\n",
       "  <tbody>\n",
       "    <tr>\n",
       "      <th>0</th>\n",
       "      <td>12.079</td>\n",
       "      <td>19.278</td>\n",
       "      <td>-7.199</td>\n",
       "    </tr>\n",
       "    <tr>\n",
       "      <th>1</th>\n",
       "      <td>16.791</td>\n",
       "      <td>18.741</td>\n",
       "      <td>-1.950</td>\n",
       "    </tr>\n",
       "    <tr>\n",
       "      <th>2</th>\n",
       "      <td>9.564</td>\n",
       "      <td>21.214</td>\n",
       "      <td>-11.650</td>\n",
       "    </tr>\n",
       "    <tr>\n",
       "      <th>3</th>\n",
       "      <td>8.630</td>\n",
       "      <td>15.687</td>\n",
       "      <td>-7.057</td>\n",
       "    </tr>\n",
       "    <tr>\n",
       "      <th>4</th>\n",
       "      <td>14.669</td>\n",
       "      <td>22.803</td>\n",
       "      <td>-8.134</td>\n",
       "    </tr>\n",
       "  </tbody>\n",
       "</table>\n",
       "</div>"
      ],
      "text/plain": [
       "   Congruent  Incongruent  difference\n",
       "0     12.079       19.278      -7.199\n",
       "1     16.791       18.741      -1.950\n",
       "2      9.564       21.214     -11.650\n",
       "3      8.630       15.687      -7.057\n",
       "4     14.669       22.803      -8.134"
      ]
     },
     "execution_count": 17,
     "metadata": {},
     "output_type": "execute_result"
    }
   ],
   "source": [
    "# Perform the statistical test here\n",
    "\n",
    "# add a column to store differences between the 2 groups\n",
    "df['difference'] = df['Congruent'] - df['Incongruent']\n",
    "df.head()"
   ]
  },
  {
   "cell_type": "code",
   "execution_count": 19,
   "metadata": {},
   "outputs": [],
   "source": [
    "# bootstrap from the sample data\n",
    "mean_congruent, mean_incongruent, mean_diff = [], [], []\n",
    "for _ in range(10000):\n",
    "    bootsample = df.sample(100, replace=True)\n",
    "    congruent = bootsample['Congruent'].mean()\n",
    "    incongruent = bootsample['Incongruent'].mean()\n",
    "    mean_congruent.append(congruent)\n",
    "    mean_incongruent.append(incongruent)\n",
    "    mean_diff.append(congruent - incongruent)"
   ]
  },
  {
   "cell_type": "code",
   "execution_count": 24,
   "metadata": {},
   "outputs": [
    {
     "data": {
      "image/png": "[encoded data removed]",
      "text/plain": [
       "<Figure size 432x288 with 1 Axes>"
      ]
     },
     "metadata": {},
     "output_type": "display_data"
    }
   ],
   "source": [
    "plt.hist(mean_congruent, color='orange', alpha=0.5, label='congruent');\n",
    "plt.hist(mean_incongruent, color='blue', alpha=0.5, label='incongruent');\n",
    "plt.legend();\n",
    "plt.xlabel('Duration');\n",
    "plt.ylabel('Counts');\n",
    "plt.title('Bootstrapped Distribution of Times for Congruent v. Incongruent Tasks');"
   ]
  },
  {
   "cell_type": "code",
   "execution_count": 33,
   "metadata": {},
   "outputs": [],
   "source": [
    "# sample from the null\n",
    "null_vals = np.random.normal(0, np.std(mean_diff), 10000)"
   ]
  },
  {
   "cell_type": "code",
   "execution_count": 34,
   "metadata": {},
   "outputs": [
    {
     "name": "stdout",
     "output_type": "stream",
     "text": [
      "-7.964791666666666 7.952983853339586\n"
     ]
    }
   ],
   "source": [
    "null_mean = null_vals.mean()\n",
    "sample_mean = df['difference'].mean()\n",
    "lower_bound = sample_mean\n",
    "upper_bound = null_mean + (null_mean - sample_mean)\n",
    "print(lower_bound, upper_bound)"
   ]
  },
  {
   "cell_type": "code",
   "execution_count": 40,
   "metadata": {},
   "outputs": [
    {
     "data": {
      "image/png": "[encoded data removed]",
      "text/plain": [
       "<Figure size 432x288 with 1 Axes>"
      ]
     },
     "metadata": {},
     "output_type": "display_data"
    }
   ],
   "source": [
    "plt.hist(null_vals, color='green', alpha=0.5, label='null');\n",
    "\n",
    "# add a line for the calculated sample difference mean (lower bound) and upper bound\n",
    "plt.axvline(x=lower_bound, color = 'red');\n",
    "plt.axvline(x=upper_bound, color = 'blue');"
   ]
  },
  {
   "cell_type": "code",
   "execution_count": 36,
   "metadata": {},
   "outputs": [
    {
     "name": "stdout",
     "output_type": "stream",
     "text": [
      "0.0\n"
     ]
    }
   ],
   "source": [
    "# calculate p-value\n",
    "prob_more_extreme_low = (null_vals < lower_bound).mean()\n",
    "prob_more_extreme_high = (null_vals > upper_bound).mean()\n",
    "pval = prob_more_extreme_low + prob_more_extreme_high\n",
    "\n",
    "print(pval)"
   ]
  },
  {
   "cell_type": "code",
   "execution_count": 41,
   "metadata": {},
   "outputs": [
    {
     "name": "stdout",
     "output_type": "stream",
     "text": [
      "-8.905871 -7.055872999999995\n"
     ]
    }
   ],
   "source": [
    "# calculate 95% confidence interval for the difference in means from the bootstrapped sample\n",
    "low, upper = np.percentile(mean_diff, 2.5), np.percentile(mean_diff, 97.5)\n",
    "print(low, upper)"
   ]
  },
  {
   "cell_type": "code",
   "execution_count": 42,
   "metadata": {},
   "outputs": [
    {
     "name": "stdout",
     "output_type": "stream",
     "text": [
      "-9.892015276000002 -6.363923417999926\n"
     ]
    }
   ],
   "source": [
    "# calculate 99.99% confidence interval for the difference in means from the bootstrapped sample\n",
    "low2, upper2 = np.percentile(mean_diff, 0.005), np.percentile(mean_diff, 99.995)\n",
    "print(low2, upper2)"
   ]
  },
  {
   "cell_type": "markdown",
   "metadata": {},
   "source": [
    "Test 1 - Simulate from the null, then compare the sample difference mean to that. From the plot above, we can see that the sample mean (the red line) is far to the left of the null distribution (green block) centered at 0. We calculated the p-value (the % chance that values generated from the null were more extreme than the actual value at lower and upper ends) and had a p-value of 0. So we have enough evidence to reject the null hypothesis, in favour of the alternative that there is a difference in means between the congruent and incongruent tasks. And from the negative value of congruent - incongruent, it appears that the mean for the incongruent condition is larger than for the congruent condition. \n",
    "\n",
    "Test 2 - Bootstrapped from the sample to calculate a 95% confidence interval of (-8.905871 -7.055872999999995), which definitely does not fall in the null hypothesis space of 0. Even the 99.99% confidence interval of (-9.892015276000002 -6.363923417999926) does not overlap with 0. This suggests to reject the null hypothesis in favour of the alternative, that the means for the congruent and incongruent groups are different, and that the incongruent mean is higher than the congruent mean.\n",
    "\n",
    "The results matched the expectations from the Stroop test, that the incongruent task will result in a higher duration than the congruent task, due the mismatch of the colour and text in the incongruent task. \n"
   ]
  },
  {
   "cell_type": "markdown",
   "metadata": {},
   "source": [
    "(6) Optional: What do you think is responsible for the effects observed? Can you think of an alternative or similar task that would result in a similar effect? Some research about the problem will be helpful for thinking about these two questions!"
   ]
  },
  {
   "cell_type": "markdown",
   "metadata": {},
   "source": [
    "A possible explanation for the higher incongruent durations is that the default action when viewing text is to read the word instead of evaluating the colour. So when the word text and the colour are the same or similar, the viewer just reads the text and notes that the colour is the same. When the word text and the colour are different, the viewer reads the text, sees that the colour is not the same which creates 'interference' in the process, then has to think of the correct colour. This adds time to the incongruent task. \n",
    "\n",
    "Similar tasks: \n",
    "- the numerical stroop (from Wikipedia) where the viewer compares digits where the size of the digit text can match (congruent - larger size matches larger digit) or mismatch (incongruent - larger size matches smaller digit)\n",
    "- the implicit association test from psychology where subjects take longer to match positive characteristics to certain races/gender/groups depending on whether the group has a positive or negative association\n"
   ]
  },
  {
   "cell_type": "markdown",
   "metadata": {},
   "source": [
    "References: \n",
    "\n",
    "- https://en.wikipedia.org/wiki/Stroop_effect\n",
    "- https://en.wikipedia.org/wiki/Implicit_stereotype\n",
    "- https://en.wikipedia.org/wiki/Implicit-association_test\n"
   ]
  }
 ],
 "metadata": {
  "kernelspec": {
   "display_name": "Python 3",
   "language": "python",
   "name": "python3"
  },
  "language_info": {
   "codemirror_mode": {
    "name": "ipython",
    "version": 3
   },
   "file_extension": ".py",
   "mimetype": "text/x-python",
   "name": "python",
   "nbconvert_exporter": "python",
   "pygments_lexer": "ipython3",
   "version": "3.6.5"
  }
 },
 "nbformat": 4,
 "nbformat_minor": 2
}
